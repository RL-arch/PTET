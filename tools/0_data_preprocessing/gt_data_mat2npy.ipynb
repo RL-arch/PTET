{
 "cells": [
  {
   "cell_type": "markdown",
   "metadata": {},
   "source": [
    "load the data in mat"
   ]
  },
  {
   "cell_type": "code",
   "execution_count": null,
   "metadata": {},
   "outputs": [],
   "source": [
    "import scipy\n",
    "import os\n",
    "import torch\n",
    "import numpy as np\n",
    "\n",
    "mat_a = scipy.io.loadmat('/home/ronald/Experiments/Touch Project/MAE_Final_Test/Data/GT/GT5_blurred.mat')\n",
    "V_EIM = mat_a['GT5_blurred']\n",
    "V_EIM_tensor = torch.Tensor(V_EIM) #511+43630 = 44141\n",
    "V_EIM_tensor.shape"
   ]
  },
  {
   "cell_type": "markdown",
   "metadata": {},
   "source": [
    "save in npy"
   ]
  },
  {
   "cell_type": "code",
   "execution_count": null,
   "metadata": {},
   "outputs": [],
   "source": [
    "expanded_tensor_with_channels = torch.cat([V_EIM_tensor.unsqueeze(1)], dim=1)\n",
    "print(expanded_tensor_with_channels.shape)\n",
    "# 将 PyTorch 张量转换为 NumPy 数组\n",
    "numpy_array = expanded_tensor_with_channels.numpy()\n",
    "\n",
    "# 保存 NumPy 数组为 .npy 文件\n",
    "np.save('/home/ronald/Experiments/Touch Project/MAE_Final_Test/Data/GT/GT5_blurred.npy', numpy_array)"
   ]
  }
 ],
 "metadata": {
  "language_info": {
   "name": "python"
  }
 },
 "nbformat": 4,
 "nbformat_minor": 2
}
