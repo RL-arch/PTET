{
 "cells": [
  {
   "cell_type": "code",
   "execution_count": 1,
   "metadata": {},
   "outputs": [
    {
     "name": "stdout",
     "output_type": "stream",
     "text": [
      "(104, 2304)\n"
     ]
    }
   ],
   "source": [
    "import numpy as np\n",
    " \n",
    "# Load sensitivity matrix\n",
    "J = np.loadtxt('Sensitivity16_48.txt')\n",
    "print(J.shape)\n",
    " \n"
   ]
  },
  {
   "cell_type": "code",
   "execution_count": 2,
   "metadata": {},
   "outputs": [
    {
     "name": "stdout",
     "output_type": "stream",
     "text": [
      "(2304, 2304)\n"
     ]
    }
   ],
   "source": [
    "# Function to generate matrix R\n",
    "def generate_matrix(n):\n",
    "    R = np.zeros((n, n)) # Initialize an nxn matrix with zeros\n",
    "    for i in range(n):\n",
    "        for j in range(n):\n",
    "            if i == j:\n",
    "                R[i, j] = 4  # Diagonal elements\n",
    "            elif abs(i - j) == 1:  # Adjacent elements\n",
    "                R[i, j] = -1\n",
    "    return R\n",
    " \n",
    "# Set lambda value\n",
    "lambda_val = 0.000001\n",
    " \n",
    "# Generate matrix R\n",
    "R = generate_matrix(2304)\n",
    " \n",
    "# Calculate matrix S\n",
    "S = np.linalg.inv(J.T @ J + lambda_val**2 * R.T @ R) @ (J.T @ J)\n",
    "\n",
    "print(S.shape)"
   ]
  },
  {
   "cell_type": "code",
   "execution_count": 8,
   "metadata": {},
   "outputs": [
    {
     "name": "stdout",
     "output_type": "stream",
     "text": [
      "S shape after reshaping: (1, 2304)\n",
      "[[0.57947005 0.5745702  0.56459894 ... 0.67504773 0.61620545 0.58780897]]\n"
     ]
    }
   ],
   "source": [
    "# Step 1: Calculate the mean of S along rows or columns (depending on the requirement)\n",
    "# Option 1: Mean across rows\n",
    "S_mean = np.mean(S, axis=0)  # Shape will be (2304,)\n",
    "\n",
    "# Option 2: Mean across columns (if required)\n",
    "# S_mean = np.mean(S, axis=1)  # Uncomment this if you want the mean across columns\n",
    "\n",
    "# Step 2: Reshape S_mean from (2304,) to (1, 2304)\n",
    "S_reshaped = S_mean.reshape(1, 2304)\n",
    "\n",
    "# Print the shape of the reshaped S\n",
    "print(f\"S shape after reshaping: {S_reshaped.shape}\")\n",
    "\n",
    "# normalize the sensitivity matrix to 0-1\n",
    "S_reshaped = (S_reshaped - np.min(S_reshaped))/(np.max(S_reshaped) - np.min(S_reshaped))\n",
    "\n",
    "# Print the reshaped matrix S\n",
    "print(S_reshaped)\n",
    "\n",
    "np.savetxt('Sensitivity16_48_mean_norm.txt', S_reshaped)"
   ]
  }
 ],
 "metadata": {
  "kernelspec": {
   "display_name": "new",
   "language": "python",
   "name": "python3"
  },
  "language_info": {
   "codemirror_mode": {
    "name": "ipython",
    "version": 3
   },
   "file_extension": ".py",
   "mimetype": "text/x-python",
   "name": "python",
   "nbconvert_exporter": "python",
   "pygments_lexer": "ipython3",
   "version": "3.10.14"
  }
 },
 "nbformat": 4,
 "nbformat_minor": 2
}
