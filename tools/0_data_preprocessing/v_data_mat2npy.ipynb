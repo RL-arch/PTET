{
 "cells": [
  {
   "cell_type": "code",
   "execution_count": 2,
   "metadata": {},
   "outputs": [
    {
     "name": "stderr",
     "output_type": "stream",
     "text": [
      "/home/ronald/anaconda3/envs/new/lib/python3.10/site-packages/tqdm/auto.py:21: TqdmWarning: IProgress not found. Please update jupyter and ipywidgets. See https://ipywidgets.readthedocs.io/en/stable/user_install.html\n",
      "  from .autonotebook import tqdm as notebook_tqdm\n"
     ]
    }
   ],
   "source": [
    "import os\n",
    "import argparse\n",
    "import math\n",
    "import torch\n",
    "import torchvision\n",
    "from torchvision.transforms import ToTensor, Compose, Normalize\n",
    "from tqdm import tqdm\n",
    "import scipy\n",
    "import os\n",
    "import matplotlib.pyplot as plt\n",
    "from models.mae import *\n",
    "from utils import setup_seed\n",
    "from torch.utils.data import DataLoader, TensorDataset\n",
    "import time"
   ]
  },
  {
   "cell_type": "code",
   "execution_count": 2,
   "metadata": {},
   "outputs": [],
   "source": [
    "V0_tensor = torch.tensor(np.load('Data/V/V_EIM0.npy'))\n",
    "V1_tensor = torch.tensor(np.load('Data/V/V_EIM1.npy'))\n",
    "V2_tensor = torch.tensor(np.load('Data/V/V_EIM2.npy'))\n",
    "V3_tensor = torch.tensor(np.load('Data/V/V_EIM3.npy'))\n",
    "V4_tensor = torch.tensor(np.load('Data/V/V_EIM4.npy'))\n",
    "\n",
    "GT0_tensor = torch.tensor(np.load('Data/GT/GT0.npy'))\n",
    "GT1_tensor = torch.tensor(np.load('Data/GT/GT1.npy'))\n",
    "GT2_tensor = torch.tensor(np.load('Data/GT/GT2.npy'))\n",
    "GT3_tensor = torch.tensor(np.load('Data/GT/GT3.npy'))\n",
    "GT4_tensor = torch.tensor(np.load('Data/GT/GT4.npy'))"
   ]
  },
  {
   "cell_type": "markdown",
   "metadata": {},
   "source": [
    "check numpy data type"
   ]
  },
  {
   "cell_type": "code",
   "execution_count": 7,
   "metadata": {},
   "outputs": [
    {
     "name": "stdout",
     "output_type": "stream",
     "text": [
      "torch.float32\n",
      "float32\n"
     ]
    }
   ],
   "source": [
    "print(V0_tensor.dtype)\n",
    "print(np.load('Data/V/V_EIM0.npy').dtype)"
   ]
  },
  {
   "cell_type": "markdown",
   "metadata": {},
   "source": [
    "check mat data type"
   ]
  },
  {
   "cell_type": "code",
   "execution_count": 11,
   "metadata": {},
   "outputs": [
    {
     "name": "stdout",
     "output_type": "stream",
     "text": [
      "float64\n"
     ]
    }
   ],
   "source": [
    "V0_mat = scipy.io.loadmat('Data/V/V_EIM0.mat')['V_EIM0']\n",
    "print(V0_mat.dtype)"
   ]
  },
  {
   "cell_type": "markdown",
   "metadata": {},
   "source": [
    "### mat2npy in 32*32: Bicubic interpolation"
   ]
  },
  {
   "cell_type": "code",
   "execution_count": 20,
   "metadata": {},
   "outputs": [
    {
     "name": "stdout",
     "output_type": "stream",
     "text": [
      "New tensor shape: torch.Size([100000, 1, 32, 32])\n",
      "New tensor shape: torch.Size([100000, 1, 32, 32])\n",
      "New tensor shape: torch.Size([100000, 1, 32, 32])\n",
      "New tensor shape: torch.Size([100000, 1, 32, 32])\n",
      "torch.Size([11520, 1, 32, 32])\n"
     ]
    }
   ],
   "source": [
    "import torch\n",
    "import numpy as np\n",
    "import scipy.io\n",
    "from scipy.ndimage import zoom\n",
    "\n",
    "def mat2tensor(V_mat):\n",
    "    # 假设 V_mat 是一个已经加载的、形状为 (11520, 16, 16) 的双精度矩阵\n",
    "    # 返回值是一个形状为 (11520, 32, 32) 的双精度矩阵\n",
    "    V_resized = zoom(V_mat, (1, 2, 2), order=3)  # order=3 对应双三次插值\n",
    "    return torch.from_numpy(V_resized).float().unsqueeze(1)\n",
    "\n",
    "V0_mat = scipy.io.loadmat('Data/V/V_EIM0.mat')['V_EIM0']\n",
    "V1_mat = scipy.io.loadmat('Data/V/V_EIM1.mat')['V_EIM1']\n",
    "V2_mat = scipy.io.loadmat('Data/V/V_EIM2.mat')['V_EIM2']\n",
    "V3_mat = scipy.io.loadmat('Data/V/V_EIM3.mat')['V_EIM3']\n",
    "V4_mat = scipy.io.loadmat('Data/V/V_EIM4.mat')['V_EIM4']\n",
    "V0_tensor = mat2tensor(V0_mat)\n",
    "V1_tensor = mat2tensor(V1_mat)\n",
    "V2_tensor = mat2tensor(V2_mat)\n",
    "V3_tensor = mat2tensor(V3_mat)\n",
    "V4_tensor = mat2tensor(V4_mat)\n",
    "print(V0_tensor.shape)\n",
    "# print(V0_tensor)\n",
    "np.save('Data/V/V_EIM0_32.npy', V0_tensor)\n",
    "np.save('Data/V/V_EIM1_32.npy', V1_tensor)\n",
    "np.save('Data/V/V_EIM2_32.npy', V2_tensor)\n",
    "np.save('Data/V/V_EIM3_32.npy', V3_tensor)\n",
    "np.save('Data/V/V_EIM4_32.npy', V4_tensor)"
   ]
  },
  {
   "cell_type": "markdown",
   "metadata": {},
   "source": [
    "### mat2npy in 64*64: Bicubic interpolation"
   ]
  },
  {
   "cell_type": "code",
   "execution_count": null,
   "metadata": {},
   "outputs": [],
   "source": [
    "import torch\n",
    "import numpy as np\n",
    "import scipy.io\n",
    "from scipy.ndimage import zoom\n",
    "\n",
    "def mat2tensor(V_mat, dtype=torch.float64):\n",
    "    \"\"\"\n",
    "    将给定的numpy矩阵转换为PyTorch张量。\n",
    "    \n",
    "    Args:\n",
    "        V_mat (np.ndarray): 形状为 (N, 16, 16) 的numpy数组。\n",
    "        dtype (torch.dtype, optional): 目标张量的数据类型。默认为torch.float64。\n",
    "        \n",
    "    Returns:\n",
    "        torch.Tensor: 形状为 (N, 1, 64, 64) 的PyTorch张量。\n",
    "    \"\"\"\n",
    "    V_resized = zoom(V_mat, (1, 4, 4), order=3)  # order=3 对应双三次插值\n",
    "    return torch.from_numpy(V_resized).to(dtype).unsqueeze(1)\n",
    "\n",
    "V0_mat = scipy.io.loadmat('Data/V/V_EIM0.mat')['V_EIM0']\n",
    "V1_mat = scipy.io.loadmat('Data/V/V_EIM1.mat')['V_EIM1']\n",
    "V2_mat = scipy.io.loadmat('Data/V/V_EIM2.mat')['V_EIM2']\n",
    "V3_mat = scipy.io.loadmat('Data/V/V_EIM3.mat')['V_EIM3']\n",
    "V4_mat = scipy.io.loadmat('Data/V/V_EIM4.mat')['V_EIM4']\n",
    "\n",
    "device = torch.device('cuda' if torch.cuda.is_available() else 'cpu')\n",
    "\n",
    "V0_tensor = mat2tensor(V0_mat).to(device)\n",
    "V1_tensor = mat2tensor(V1_mat).to(device)\n",
    "V2_tensor = mat2tensor(V2_mat).to(device)\n",
    "V3_tensor = mat2tensor(V3_mat).to(device)\n",
    "V4_tensor = mat2tensor(V4_mat).to(device)\n",
    "print(V0_tensor.shape)\n",
    "# print(V0_tensor)\n",
    "np.save('Data/V/V_EIM0_64.npy', V0_tensor.cpu().numpy())\n",
    "np.save('Data/V/V_EIM1_64.npy', V1_tensor.cpu().numpy())\n",
    "np.save('Data/V/V_EIM2_64.npy', V2_tensor.cpu().numpy())\n",
    "np.save('Data/V/V_EIM3_64.npy', V3_tensor.cpu().numpy())\n",
    "np.save('Data/V/V_EIM4_64.npy', V4_tensor.cpu().numpy())"
   ]
  }
 ],
 "metadata": {
  "kernelspec": {
   "display_name": "new",
   "language": "python",
   "name": "python3"
  },
  "language_info": {
   "codemirror_mode": {
    "name": "ipython",
    "version": 3
   },
   "file_extension": ".py",
   "mimetype": "text/x-python",
   "name": "python",
   "nbconvert_exporter": "python",
   "pygments_lexer": "ipython3",
   "version": "3.10.14"
  }
 },
 "nbformat": 4,
 "nbformat_minor": 2
}
